{
 "cells": [
  {
   "cell_type": "markdown",
   "metadata": {},
   "source": [
    "## Exploration."
   ]
  },
  {
   "cell_type": "code",
   "execution_count": 13,
   "metadata": {},
   "outputs": [],
   "source": [
    "import pandas as pd\n",
    "import re\n",
    "import unicodedata\n",
    "import numpy as np"
   ]
  },
  {
   "cell_type": "code",
   "execution_count": 6,
   "metadata": {},
   "outputs": [],
   "source": [
    "train_df_raw = pd.read_csv('/kaggle/input/tweet-sentiment-extraction/train.csv')"
   ]
  },
  {
   "cell_type": "code",
   "execution_count": 11,
   "metadata": {},
   "outputs": [],
   "source": [
    "_RE_COMBINE_WHITESPACE = re.compile(r\"\\s+\")\n",
    "def clean(string):\n",
    "    unicode_string = unicodedata.normalize('NFKD', string).replace('\\xa0', ' ')\n",
    "    return _RE_COMBINE_WHITESPACE.sub(' ', unicode_string).strip()\n",
    "train_df = train_df_raw.copy(deep=True)\n",
    "train_df['text'] = train_df['text'].astype(str).apply(clean)\n",
    "train_df['selected_text'] = train_df['selected_text'].astype(str).apply(clean)"
   ]
  },
  {
   "cell_type": "markdown",
   "metadata": {},
   "source": [
    "We noticed that selected text on neutral strings tended to include all of the words from the original string. Was this more than a tendency? Apparently not"
   ]
  },
  {
   "cell_type": "code",
   "execution_count": 14,
   "metadata": {},
   "outputs": [
    {
     "data": {
      "text/plain": [
       "False"
      ]
     },
     "execution_count": 14,
     "metadata": {},
     "output_type": "execute_result"
    }
   ],
   "source": [
    "neutral_df = train_df.query('sentiment == \"neutral\"')\n",
    "np.all(neutral_df['text'] == neutral_df['selected_text'])"
   ]
  },
  {
   "cell_type": "code",
   "execution_count": 15,
   "metadata": {},
   "outputs": [
    {
     "data": {
      "text/html": [
       "<div>\n",
       "<style scoped>\n",
       "    .dataframe tbody tr th:only-of-type {\n",
       "        vertical-align: middle;\n",
       "    }\n",
       "\n",
       "    .dataframe tbody tr th {\n",
       "        vertical-align: top;\n",
       "    }\n",
       "\n",
       "    .dataframe thead th {\n",
       "        text-align: right;\n",
       "    }\n",
       "</style>\n",
       "<table border=\"1\" class=\"dataframe\">\n",
       "  <thead>\n",
       "    <tr style=\"text-align: right;\">\n",
       "      <th></th>\n",
       "      <th>textID</th>\n",
       "      <th>text</th>\n",
       "      <th>selected_text</th>\n",
       "      <th>sentiment</th>\n",
       "    </tr>\n",
       "  </thead>\n",
       "  <tbody>\n",
       "    <tr>\n",
       "      <th>35</th>\n",
       "      <td>4f5267ad70</td>\n",
       "      <td>Thats it, its the end. Tears for Fears vs Eric...</td>\n",
       "      <td>Thats it, its the end. Tears for Fears</td>\n",
       "      <td>neutral</td>\n",
       "    </tr>\n",
       "    <tr>\n",
       "      <th>57</th>\n",
       "      <td>6086b1f016</td>\n",
       "      <td>will be back later. http://plurk.com/p/rp3k7</td>\n",
       "      <td>will be back later.</td>\n",
       "      <td>neutral</td>\n",
       "    </tr>\n",
       "    <tr>\n",
       "      <th>110</th>\n",
       "      <td>9c4817f73b</td>\n",
       "      <td>if u have a friendster add me!!!!!!!!! my emai...</td>\n",
       "      <td>if u have a friendster add me!!!!!!!!! my emai...</td>\n",
       "      <td>neutral</td>\n",
       "    </tr>\n",
       "    <tr>\n",
       "      <th>198</th>\n",
       "      <td>931a866d3f</td>\n",
       "      <td>Had nicotine replacement patch on for 4 hours....</td>\n",
       "      <td>So far, so good, but I did sleep for most of t...</td>\n",
       "      <td>neutral</td>\n",
       "    </tr>\n",
       "    <tr>\n",
       "      <th>199</th>\n",
       "      <td>7a718b23ef</td>\n",
       "      <td>_Sanderson What`s with Twatter lately? Either ...</td>\n",
       "      <td>What`s with Twatter lately? Either I can`t get...</td>\n",
       "      <td>neutral</td>\n",
       "    </tr>\n",
       "    <tr>\n",
       "      <th>...</th>\n",
       "      <td>...</td>\n",
       "      <td>...</td>\n",
       "      <td>...</td>\n",
       "      <td>...</td>\n",
       "    </tr>\n",
       "    <tr>\n",
       "      <th>27114</th>\n",
       "      <td>556d273874</td>\n",
       "      <td>http://tinyurl.com/cyonct vote for Rob</td>\n",
       "      <td>vote for Rob</td>\n",
       "      <td>neutral</td>\n",
       "    </tr>\n",
       "    <tr>\n",
       "      <th>27140</th>\n",
       "      <td>c28465b668</td>\n",
       "      <td>Google ... show me apples ... I only want to s...</td>\n",
       "      <td>Google ... show me apples ... I only want to s...</td>\n",
       "      <td>neutral</td>\n",
       "    </tr>\n",
       "    <tr>\n",
       "      <th>27301</th>\n",
       "      <td>6cf2428a33</td>\n",
       "      <td>I`m like so upset with you.. haha.. you never ...</td>\n",
       "      <td>I`m like so upset with you.. haha..</td>\n",
       "      <td>neutral</td>\n",
       "    </tr>\n",
       "    <tr>\n",
       "      <th>27332</th>\n",
       "      <td>3a9d357027</td>\n",
       "      <td>haha i see im so bored rite now.. it seems lik...</td>\n",
       "      <td>haha i see im so bored rite now.</td>\n",
       "      <td>neutral</td>\n",
       "    </tr>\n",
       "    <tr>\n",
       "      <th>27374</th>\n",
       "      <td>b49385ebb7</td>\n",
       "      <td>says Finally, Im home. http://plurk.com/p/rr121</td>\n",
       "      <td>says Finally, Im home.</td>\n",
       "      <td>neutral</td>\n",
       "    </tr>\n",
       "  </tbody>\n",
       "</table>\n",
       "<p>554 rows × 4 columns</p>\n",
       "</div>"
      ],
      "text/plain": [
       "           textID                                               text  \\\n",
       "35     4f5267ad70  Thats it, its the end. Tears for Fears vs Eric...   \n",
       "57     6086b1f016       will be back later. http://plurk.com/p/rp3k7   \n",
       "110    9c4817f73b  if u have a friendster add me!!!!!!!!! my emai...   \n",
       "198    931a866d3f  Had nicotine replacement patch on for 4 hours....   \n",
       "199    7a718b23ef  _Sanderson What`s with Twatter lately? Either ...   \n",
       "...           ...                                                ...   \n",
       "27114  556d273874             http://tinyurl.com/cyonct vote for Rob   \n",
       "27140  c28465b668  Google ... show me apples ... I only want to s...   \n",
       "27301  6cf2428a33  I`m like so upset with you.. haha.. you never ...   \n",
       "27332  3a9d357027  haha i see im so bored rite now.. it seems lik...   \n",
       "27374  b49385ebb7    says Finally, Im home. http://plurk.com/p/rr121   \n",
       "\n",
       "                                           selected_text sentiment  \n",
       "35                Thats it, its the end. Tears for Fears   neutral  \n",
       "57                                   will be back later.   neutral  \n",
       "110    if u have a friendster add me!!!!!!!!! my emai...   neutral  \n",
       "198    So far, so good, but I did sleep for most of t...   neutral  \n",
       "199    What`s with Twatter lately? Either I can`t get...   neutral  \n",
       "...                                                  ...       ...  \n",
       "27114                                       vote for Rob   neutral  \n",
       "27140  Google ... show me apples ... I only want to s...   neutral  \n",
       "27301                I`m like so upset with you.. haha..   neutral  \n",
       "27332                   haha i see im so bored rite now.   neutral  \n",
       "27374                             says Finally, Im home.   neutral  \n",
       "\n",
       "[554 rows x 4 columns]"
      ]
     },
     "execution_count": 15,
     "metadata": {},
     "output_type": "execute_result"
    }
   ],
   "source": [
    "neutral_df[neutral_df['text'].apply(len) - neutral_df['selected_text'].apply(len) > 10]"
   ]
  },
  {
   "cell_type": "markdown",
   "metadata": {},
   "source": [
    "Looks like links are often not included in the selected text"
   ]
  },
  {
   "cell_type": "markdown",
   "metadata": {},
   "source": [
    "------------MISC------------"
   ]
  },
  {
   "cell_type": "code",
   "execution_count": null,
   "metadata": {},
   "outputs": [],
   "source": [
    "def jaccard(str1, str2, debug = False): \n",
    "    a = set(str1.lower().split()) \n",
    "    b = set(str2.lower().split())\n",
    "    c = a.intersection(b)\n",
    "    if debug:\n",
    "        print(a)\n",
    "        print(b)\n",
    "        print(c)\n",
    "    return float(len(c)) / (len(a) + len(b) - len(c))"
   ]
  },
  {
   "cell_type": "code",
   "execution_count": null,
   "metadata": {},
   "outputs": [],
   "source": [
    "LINK_WORDS = ['http', 'www', '.com']\n",
    "\n",
    "def is_link(x):\n",
    "    for link_word in LINK_WORDS:\n",
    "        if link_word in x:\n",
    "            return True\n",
    "    return False\n",
    "\n",
    "class Tokenizer:\n",
    "    def __init__(self, bert_tokenizer):\n",
    "        self.bert_tokenizer = bert_tokenizer\n",
    "    \n",
    "    def tokenize(self, string, strip_link = False):\n",
    "        if strip_link:\n",
    "            tokens = [x.lower() for x in string.split(' ')]\n",
    "            tokens = [x for x in tokens if not is_link(x)]\n",
    "            string = ' '.join(tokens)\n",
    "        \n",
    "        spaced_strings = string.split(' ')\n",
    "        index_map = []\n",
    "        all_tokens = []\n",
    "        cur_sum = 0\n",
    "        for string in spaced_strings:\n",
    "            tokens = self.bert_tokenizer.tokenize(string)\n",
    "            for token in tokens:\n",
    "                index_map.append(cur_sum)\n",
    "                cur_sum += len(token)\n",
    "            cur_sum += 1\n",
    "            all_tokens.extend(tokens)\n",
    "        return all_tokens, index_map\n",
    "\n",
    "tokenizer = Tokenizer(bert_tokenizer)"
   ]
  }
 ],
 "metadata": {
  "kernelspec": {
   "display_name": "Python 3",
   "language": "python",
   "name": "python3"
  },
  "language_info": {
   "codemirror_mode": {
    "name": "ipython",
    "version": 3
   },
   "file_extension": ".py",
   "mimetype": "text/x-python",
   "name": "python",
   "nbconvert_exporter": "python",
   "pygments_lexer": "ipython3",
   "version": "3.7.6"
  }
 },
 "nbformat": 4,
 "nbformat_minor": 4
}
